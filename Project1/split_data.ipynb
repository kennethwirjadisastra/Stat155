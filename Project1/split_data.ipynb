{
 "cells": [
  {
   "cell_type": "code",
   "execution_count": 1,
   "metadata": {},
   "outputs": [],
   "source": [
    "import pandas as pd\n",
    "import numpy as np"
   ]
  },
  {
   "cell_type": "code",
   "execution_count": 2,
   "metadata": {},
   "outputs": [],
   "source": [
    "def file_path(station):\n",
    "    # returns the path for the clean data\n",
    "    return f'clean_data/{station}_weather_clean.csv'\n",
    "\n",
    "def split_data(df, train_size=0.7, validation_size=0.15, test_size=0.15):\n",
    "    try:\n",
    "        assert train_size + validation_size + test_size == 1\n",
    "\n",
    "        train_idx = int(len(df) * train_size)\n",
    "        validation_idx = int(len(df) * (train_size + validation_size))\n",
    "\n",
    "        train, validate, test = df.iloc[:train_idx], df.iloc[train_idx:validation_idx], df.iloc[validation_idx:]\n",
    "        \n",
    "        return train, validate, test\n",
    "    \n",
    "    except (AssertionError):\n",
    "        print(\"Sum of train_size, validatoin_size, and test_size must be 1\")\n",
    "        raise(AssertionError)"
   ]
  },
  {
   "cell_type": "code",
   "execution_count": 3,
   "metadata": {},
   "outputs": [],
   "source": [
    "stations = [\n",
    "    \"APA\", \n",
    "    \"central_park\", \n",
    "    \"DEN\", \n",
    "    \"water_dept\"\n",
    "]\n",
    "\n",
    "dataset_type = {\n",
    "    0: \"train\",      # first element returned in split_data\n",
    "    1: \"validation\", # second element returned in split_data\n",
    "    2: \"test\"        # third element returned in split_data\n",
    "}\n",
    "\n",
    "for station in stations:\n",
    "    # read the full data\n",
    "    df = pd.read_csv(file_path(station))\n",
    "    \n",
    "    # split the data (70% train, 15% validation, 15% test)\n",
    "    datasets = split_data(df, train_size=0.7, validation_size=0.15, test_size=0.15)\n",
    "\n",
    "    for i in range(3):\n",
    "        # convert each dataset to a csv\n",
    "        datasets[i].to_csv(f'{dataset_type[i]}_data/{station}_weather_{dataset_type[i]}.csv')"
   ]
  }
 ],
 "metadata": {
  "kernelspec": {
   "display_name": "stat155_venv",
   "language": "python",
   "name": "python3"
  },
  "language_info": {
   "codemirror_mode": {
    "name": "ipython",
    "version": 3
   },
   "file_extension": ".py",
   "mimetype": "text/x-python",
   "name": "python",
   "nbconvert_exporter": "python",
   "pygments_lexer": "ipython3",
   "version": "3.11.1"
  },
  "orig_nbformat": 4,
  "vscode": {
   "interpreter": {
    "hash": "3d24613238e23b2647e576cf7003f7a340e5d0eea2e9f48644ff93fa14dea200"
   }
  }
 },
 "nbformat": 4,
 "nbformat_minor": 2
}
